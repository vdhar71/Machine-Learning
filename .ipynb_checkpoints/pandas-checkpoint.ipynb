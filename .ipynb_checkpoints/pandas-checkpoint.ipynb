{
 "cells": [
  {
   "cell_type": "code",
   "execution_count": null,
   "metadata": {},
   "outputs": [],
   "source": [
    "import numpy as np\n",
    "import pandas as pd\n",
    "import matplotlib.pyplot as plt\n",
    "\n",
    "\n",
    "df = pd.read_excel('/Users/vchitr014/Documents/AWS-Trusted-Advisor.xls')\n",
    "\n",
    "df\n",
    "\n",
    "\n"
   ]
  },
  {
   "cell_type": "code",
   "execution_count": null,
   "metadata": {},
   "outputs": [],
   "source": [
    "df.tail(20)"
   ]
  },
  {
   "cell_type": "code",
   "execution_count": null,
   "metadata": {},
   "outputs": [],
   "source": [
    "awsdf = df[9:]\n"
   ]
  },
  {
   "cell_type": "code",
   "execution_count": null,
   "metadata": {},
   "outputs": [],
   "source": [
    "awsdf.info"
   ]
  },
  {
   "cell_type": "code",
   "execution_count": null,
   "metadata": {},
   "outputs": [],
   "source": [
    "awsdf.columns"
   ]
  },
  {
   "cell_type": "code",
   "execution_count": null,
   "metadata": {},
   "outputs": [],
   "source": [
    "awsdf[['Low Utilization Amazon EC2 Instances' ,'Unnamed: 1' ]]"
   ]
  },
  {
   "cell_type": "code",
   "execution_count": null,
   "metadata": {},
   "outputs": [],
   "source": [
    "awsdf.iloc[0:6,0:5]"
   ]
  },
  {
   "cell_type": "code",
   "execution_count": null,
   "metadata": {},
   "outputs": [],
   "source": [
    "rdf = awsdf.iloc[9:,0] + str(' ') + awsdf.iloc[9:,3] + str(' ') + awsdf.iloc[9:,4]\n",
    "rdf"
   ]
  },
  {
   "cell_type": "code",
   "execution_count": null,
   "metadata": {},
   "outputs": [],
   "source": [
    "awsdf.dtypes"
   ]
  },
  {
   "cell_type": "code",
   "execution_count": null,
   "metadata": {},
   "outputs": [],
   "source": [
    "awsdf.columns"
   ]
  },
  {
   "cell_type": "code",
   "execution_count": null,
   "metadata": {},
   "outputs": [],
   "source": [
    "awsdf.iloc[0,range(5)]"
   ]
  },
  {
   "cell_type": "code",
   "execution_count": null,
   "metadata": {},
   "outputs": [],
   "source": [
    "df.values"
   ]
  },
  {
   "cell_type": "code",
   "execution_count": null,
   "metadata": {},
   "outputs": [],
   "source": [
    "df.columns"
   ]
  },
  {
   "cell_type": "code",
   "execution_count": null,
   "metadata": {},
   "outputs": [],
   "source": [
    "awsdf.values"
   ]
  },
  {
   "cell_type": "code",
   "execution_count": null,
   "metadata": {},
   "outputs": [],
   "source": [
    "awsdflen=len(awsdf.iloc[0])\n",
    "for x in awsdf.values:\n",
    "    for y in range(awsdflen):\n",
    "        print(x[y])\n",
    "    "
   ]
  },
  {
   "cell_type": "code",
   "execution_count": null,
   "metadata": {},
   "outputs": [],
   "source": [
    "awsdf.values.tolist()"
   ]
  },
  {
   "cell_type": "code",
   "execution_count": null,
   "metadata": {},
   "outputs": [],
   "source": [
    "for x in awsdf.values.tolist():\n",
    "    print(x[0:2], x[3:5], \"\\n\")"
   ]
  },
  {
   "cell_type": "code",
   "execution_count": null,
   "metadata": {},
   "outputs": [],
   "source": [
    "newdf = awsdf.iloc[0:,:5]\n",
    "newdf"
   ]
  },
  {
   "cell_type": "code",
   "execution_count": null,
   "metadata": {},
   "outputs": [],
   "source": [
    "import matplotlib.pyplot as plt\n",
    "\n",
    "# evenly sampled time at 200ms intervals\n",
    "t = np.arange(0., 5., 0.2)\n",
    "\n",
    "# red dashes, blue squares and green triangles\n",
    "plt.plot(t, t, 'r--', t, t**2, 'bs', t, t**3, 'g^')\n",
    "plt.show()"
   ]
  },
  {
   "cell_type": "code",
   "execution_count": null,
   "metadata": {},
   "outputs": [],
   "source": [
    "import numpy as np\n",
    "import matplotlib.pyplot as plt\n",
    "\n",
    "def f(t):\n",
    "    return np.exp(-t) * np.cos(2*np.pi*t)\n",
    "\n",
    "t1 = np.arange(0.0, 5.0, 0.1)\n",
    "t2 = np.arange(0.0, 5.0, 0.02)\n",
    "\n",
    "plt.figure(1)\n",
    "plt.subplot(211)\n",
    "plt.plot(t1, f(t1), 'bo', t2, f(t2), 'k')\n",
    "\n",
    "plt.subplot(212)\n",
    "plt.plot(t2, np.cos(2*np.pi*t2), 'r--')\n",
    "plt.show()\n"
   ]
  },
  {
   "cell_type": "code",
   "execution_count": null,
   "metadata": {},
   "outputs": [],
   "source": [
    "import matplotlib.pyplot as plt\n",
    "plt.figure(1)                # the first figure\n",
    "plt.subplot(211)             # the first subplot in the first figure\n",
    "plt.plot([1, 2, 3])\n",
    "plt.subplot(212)             # the second subplot in the first figure\n",
    "plt.plot([4, 5, 6])\n",
    "\n",
    "\n",
    "plt.figure(2)                # a second figure\n",
    "plt.plot([4, 5, 6])          # creates a subplot(111) by default\n",
    "\n",
    "plt.figure(1)                # figure 1 current; subplot(212) still current\n",
    "plt.subplot(211)             # make subplot(211) in figure1 current\n",
    "plt.title('Easy as 1, 2, 3') # subplot 211 title"
   ]
  },
  {
   "cell_type": "code",
   "execution_count": null,
   "metadata": {},
   "outputs": [],
   "source": [
    "import numpy as np\n",
    "import matplotlib.pyplot as plt\n",
    "\n",
    "# Fixing random state for reproducibility\n",
    "np.random.seed(19680801)\n",
    "\n",
    "mu, sigma = 100, 15\n",
    "x = mu + sigma * np.random.randn(10000)\n",
    "\n",
    "# the histogram of the data\n",
    "n, bins, patches = plt.hist(x, 50, normed=1, facecolor='g', alpha=0.75)\n",
    "\n",
    "\n",
    "plt.xlabel('Smarts')\n",
    "plt.ylabel('Probability')\n",
    "#plt.title('Histogram of IQ')\n",
    "plt.title(r'$\\sigma_i=15$')\n",
    "plt.text(60, .025, r'$\\mu=100,\\ \\sigma=15$')\n",
    "plt.axis([40, 160, 0, 0.03])\n",
    "plt.grid(True)\n",
    "plt.show()"
   ]
  },
  {
   "cell_type": "code",
   "execution_count": null,
   "metadata": {},
   "outputs": [],
   "source": [
    "import numpy as np\n",
    "import matplotlib.pyplot as plt\n",
    "\n",
    "ax = plt.subplot(111)\n",
    "\n",
    "t = np.arange(0.0, 5.0, 0.01)\n",
    "s = np.tan(3*np.pi*t)\n",
    "line, = plt.plot(t, s, lw=2)\n",
    "\n",
    "plt.annotate('local max', xy=(2, 1), xytext=(3, 1.5),\n",
    "            arrowprops=dict(facecolor='black', shrink=0.05),\n",
    "            )\n",
    "\n",
    "plt.ylim(-2,2)\n",
    "plt.show()"
   ]
  },
  {
   "cell_type": "code",
   "execution_count": null,
   "metadata": {},
   "outputs": [],
   "source": [
    "import numpy as np\n",
    "import matplotlib.pyplot as plt\n",
    "\n",
    "from matplotlib.ticker import NullFormatter  # useful for `logit` scale\n",
    "\n",
    "# Fixing random state for reproducibility\n",
    "np.random.seed(19680801)\n",
    "\n",
    "# make up some data in the interval ]0, 1[\n",
    "y = np.random.normal(loc=0.5, scale=0.4, size=1000)\n",
    "y = y[(y > 0) & (y < 1)]\n",
    "y.sort()\n",
    "x = np.arange(len(y))\n",
    "\n",
    "# plot with various axes scales\n",
    "plt.figure(1)\n",
    "\n",
    "# linear\n",
    "plt.subplot(221)\n",
    "plt.plot(x, y)\n",
    "plt.yscale('linear')\n",
    "plt.title('linear')\n",
    "plt.grid(True)\n",
    "\n",
    "\n",
    "# log\n",
    "plt.subplot(222)\n",
    "plt.plot(x, y)\n",
    "plt.yscale('log')\n",
    "plt.title('log')\n",
    "plt.grid(True)\n",
    "\n",
    "\n",
    "# symmetric log\n",
    "plt.subplot(223)\n",
    "plt.plot(x, y - y.mean())\n",
    "plt.yscale('symlog', linthreshy=0.01)\n",
    "plt.title('symlog')\n",
    "plt.grid(True)\n",
    "\n",
    "# logit\n",
    "plt.subplot(224)\n",
    "plt.plot(x, y)\n",
    "plt.yscale('logit')\n",
    "plt.title('logit')\n",
    "plt.grid(True)\n",
    "# Format the minor tick labels of the y-axis into empty strings with\n",
    "# `NullFormatter`, to avoid cumbering the axis with too many labels.\n",
    "plt.gca().yaxis.set_minor_formatter(NullFormatter())\n",
    "# Adjust the subplot layout, because the logit one may take more space\n",
    "# than usual, due to y-tick labels like \"1 - 10^{-3}\"\n",
    "plt.subplots_adjust(top=0.92, bottom=0.08, left=0.10, right=0.95, hspace=0.25,\n",
    "                    wspace=0.35)\n",
    "\n",
    "plt.show()"
   ]
  },
  {
   "cell_type": "code",
   "execution_count": null,
   "metadata": {},
   "outputs": [],
   "source": [
    "import pandas as pd\n",
    "import xlrd\n",
    "\n",
    "\n",
    "plumedf = pd.read_csv(\"/Users/vchitr014/Downloads/plume.csv\")\n",
    "#xlsdf = plumedf.iloc[:,[2,3,8,13,17]].dropna() # InstId, InstType, AZ, PrivIPAddr\n",
    "xlsdf=plumedf.iloc[:, 2:18]\n",
    "\n",
    "print(type(xlsdf))\n",
    "writer = pd.ExcelWriter(\"/Users/vchitr014/plume_ec2.xlsx\")\n",
    "xlsdf.to_excel(writer,sheet_name=\"Sheet 3\",index=False)\n",
    "#writer.save()\n",
    "\n"
   ]
  },
  {
   "cell_type": "code",
   "execution_count": null,
   "metadata": {},
   "outputs": [],
   "source": [
    "import pandas as pd\n",
    "import xlrd\n",
    "import matplotlib.pyplot as plt\n",
    "\n",
    "\n",
    "\n",
    "columns = ['Instances__InstanceId', 'Instances__InstanceType','Instances__Placement__AvailabilityZone','Instances__PrivateIpAddress','Instances__PublicIpAddress']\n",
    "plumedf = pd.read_csv(\"/Users/vchitr014/Downloads/plume.csv\")\n",
    "\n",
    "xls = plumedf.loc[:,columns]\n",
    "xls\n",
    "\n",
    "\n",
    "\n",
    "\n",
    "#writer = pd.ExcelWriter(\"/Users/vchitr014/plume_ec2.xlsx\")\n",
    "#xlsdf.to_excel(writer,sheet_name=\"Sheet 1\",index=False)\n",
    "#writer.save()"
   ]
  },
  {
   "cell_type": "code",
   "execution_count": null,
   "metadata": {},
   "outputs": [],
   "source": [
    "import numpy as np\n",
    "\n",
    "arr=list(range(10))\n",
    "type(arr)\n",
    "a=np.random.rand(4)\n",
    "a"
   ]
  },
  {
   "cell_type": "code",
   "execution_count": null,
   "metadata": {},
   "outputs": [],
   "source": [
    "b=np.array(np.random.rand(10,5))\n",
    "b"
   ]
  },
  {
   "cell_type": "code",
   "execution_count": null,
   "metadata": {},
   "outputs": [],
   "source": [
    "m=[[1,2,3,100],[4,5,6,7],[11,12,13,14]]\n",
    "m"
   ]
  },
  {
   "cell_type": "code",
   "execution_count": null,
   "metadata": {},
   "outputs": [],
   "source": [
    "mat1=np.array(m)\n",
    "mat1"
   ]
  },
  {
   "cell_type": "code",
   "execution_count": null,
   "metadata": {},
   "outputs": [],
   "source": [
    "np.zeros(1)"
   ]
  },
  {
   "cell_type": "code",
   "execution_count": null,
   "metadata": {},
   "outputs": [],
   "source": [
    "np.zeros((3,8))"
   ]
  },
  {
   "cell_type": "code",
   "execution_count": null,
   "metadata": {},
   "outputs": [],
   "source": [
    "np.ones(2)"
   ]
  },
  {
   "cell_type": "code",
   "execution_count": null,
   "metadata": {},
   "outputs": [],
   "source": [
    "np.ones((2,15))"
   ]
  },
  {
   "cell_type": "code",
   "execution_count": null,
   "metadata": {},
   "outputs": [],
   "source": [
    "np.eye(6)"
   ]
  },
  {
   "cell_type": "code",
   "execution_count": null,
   "metadata": {},
   "outputs": [],
   "source": [
    "np.linspace(0,7,10)"
   ]
  },
  {
   "cell_type": "code",
   "execution_count": null,
   "metadata": {},
   "outputs": [],
   "source": [
    "np.random.rand(4)"
   ]
  },
  {
   "cell_type": "code",
   "execution_count": null,
   "metadata": {},
   "outputs": [],
   "source": [
    "np.random.randn(4)"
   ]
  },
  {
   "cell_type": "code",
   "execution_count": null,
   "metadata": {},
   "outputs": [],
   "source": [
    "np.random.randint(1,1000)"
   ]
  },
  {
   "cell_type": "code",
   "execution_count": null,
   "metadata": {},
   "outputs": [],
   "source": [
    "np.random.randint(0,10**6,5)"
   ]
  },
  {
   "cell_type": "code",
   "execution_count": null,
   "metadata": {},
   "outputs": [],
   "source": [
    "x=np.arange(10)\n",
    "x"
   ]
  },
  {
   "cell_type": "code",
   "execution_count": null,
   "metadata": {},
   "outputs": [],
   "source": [
    "y=np.random.randint(0,10**9,10)\n",
    "y"
   ]
  },
  {
   "cell_type": "code",
   "execution_count": null,
   "metadata": {},
   "outputs": [],
   "source": [
    "np.multiply(x,y)"
   ]
  },
  {
   "cell_type": "code",
   "execution_count": null,
   "metadata": {},
   "outputs": [],
   "source": [
    "x.reshape(2,5)"
   ]
  },
  {
   "cell_type": "code",
   "execution_count": null,
   "metadata": {},
   "outputs": [],
   "source": [
    "np.multiply(x.reshape(5,2),np.random.randint(0,10**10,1))"
   ]
  },
  {
   "cell_type": "code",
   "execution_count": null,
   "metadata": {},
   "outputs": [],
   "source": [
    "y.max()"
   ]
  },
  {
   "cell_type": "code",
   "execution_count": null,
   "metadata": {},
   "outputs": [],
   "source": [
    "y.min()"
   ]
  },
  {
   "cell_type": "code",
   "execution_count": null,
   "metadata": {},
   "outputs": [],
   "source": [
    "y.argmax()"
   ]
  },
  {
   "cell_type": "code",
   "execution_count": null,
   "metadata": {},
   "outputs": [],
   "source": [
    "y.argmin()"
   ]
  },
  {
   "cell_type": "code",
   "execution_count": null,
   "metadata": {},
   "outputs": [],
   "source": [
    "y1 =y.reshape(5,2)\n",
    "y1"
   ]
  },
  {
   "cell_type": "code",
   "execution_count": null,
   "metadata": {},
   "outputs": [],
   "source": [
    "y1.argmax(), y1.argmin()"
   ]
  },
  {
   "cell_type": "code",
   "execution_count": null,
   "metadata": {},
   "outputs": [],
   "source": [
    "%matplotlib inline\n",
    "import numpy as np\n",
    "import matplotlib.pyplot as plt\n",
    "\n",
    "plt.plot(np.linspace(100,1000,10),)"
   ]
  },
  {
   "cell_type": "code",
   "execution_count": null,
   "metadata": {},
   "outputs": [],
   "source": [
    "sl = np.random.randint(1,10**15,20)\n",
    "sl"
   ]
  },
  {
   "cell_type": "code",
   "execution_count": null,
   "metadata": {},
   "outputs": [],
   "source": [
    "sl[:2]"
   ]
  },
  {
   "cell_type": "code",
   "execution_count": null,
   "metadata": {},
   "outputs": [],
   "source": [
    "sl[15:]"
   ]
  },
  {
   "cell_type": "code",
   "execution_count": null,
   "metadata": {},
   "outputs": [],
   "source": [
    "sl[10:16]"
   ]
  },
  {
   "cell_type": "code",
   "execution_count": null,
   "metadata": {},
   "outputs": [],
   "source": [
    "arrsl=sl[3:9]\n",
    "arrsl"
   ]
  },
  {
   "cell_type": "code",
   "execution_count": null,
   "metadata": {},
   "outputs": [],
   "source": [
    "arrsl[:]=9000\n",
    "arrsl"
   ]
  },
  {
   "cell_type": "code",
   "execution_count": null,
   "metadata": {},
   "outputs": [],
   "source": [
    "arrcopy=arrsl\n",
    "arrcopy[:]=34369758\n",
    "arrcopy"
   ]
  },
  {
   "cell_type": "code",
   "execution_count": null,
   "metadata": {},
   "outputs": [],
   "source": [
    "np.add(arrsl,arrcopy)"
   ]
  },
  {
   "cell_type": "code",
   "execution_count": null,
   "metadata": {},
   "outputs": [],
   "source": [
    "arr_int=np.random.randint(10,size=[6,6])\n",
    "arr_int"
   ]
  },
  {
   "cell_type": "code",
   "execution_count": null,
   "metadata": {},
   "outputs": [],
   "source": [
    "arr_pos=np.random.rand(5,5)\n",
    "arr_pos"
   ]
  },
  {
   "cell_type": "code",
   "execution_count": null,
   "metadata": {},
   "outputs": [],
   "source": [
    "arr_real=np.random.randn(5,5)\n",
    "arr_real"
   ]
  },
  {
   "cell_type": "code",
   "execution_count": null,
   "metadata": {},
   "outputs": [],
   "source": [
    "arr_real[1:,1:]"
   ]
  },
  {
   "cell_type": "code",
   "execution_count": null,
   "metadata": {},
   "outputs": [],
   "source": [
    "arr_pos[-2:,-2:]"
   ]
  },
  {
   "cell_type": "code",
   "execution_count": null,
   "metadata": {},
   "outputs": [],
   "source": [
    "barr= arr_int > 5\n",
    "barr"
   ]
  },
  {
   "cell_type": "code",
   "execution_count": null,
   "metadata": {},
   "outputs": [],
   "source": [
    "arr_real[1:5,1:4]"
   ]
  },
  {
   "cell_type": "code",
   "execution_count": null,
   "metadata": {},
   "outputs": [],
   "source": [
    "ta = np.arange(0,101,4)\n",
    "ta"
   ]
  },
  {
   "cell_type": "code",
   "execution_count": null,
   "metadata": {},
   "outputs": [],
   "source": [
    "ta * 2"
   ]
  },
  {
   "cell_type": "code",
   "execution_count": null,
   "metadata": {},
   "outputs": [],
   "source": [
    "ta * ta"
   ]
  },
  {
   "cell_type": "code",
   "execution_count": null,
   "metadata": {},
   "outputs": [],
   "source": [
    "ta ** 2 - ta\n"
   ]
  },
  {
   "cell_type": "code",
   "execution_count": null,
   "metadata": {},
   "outputs": [],
   "source": [
    "1/0"
   ]
  },
  {
   "cell_type": "code",
   "execution_count": null,
   "metadata": {},
   "outputs": [],
   "source": [
    "ta/ta"
   ]
  },
  {
   "cell_type": "code",
   "execution_count": null,
   "metadata": {},
   "outputs": [],
   "source": [
    "1/ta"
   ]
  },
  {
   "cell_type": "code",
   "execution_count": null,
   "metadata": {},
   "outputs": [],
   "source": [
    "ta.max(), np.max(ta)"
   ]
  },
  {
   "cell_type": "code",
   "execution_count": null,
   "metadata": {},
   "outputs": [],
   "source": [
    "np.log(ta)"
   ]
  },
  {
   "cell_type": "code",
   "execution_count": null,
   "metadata": {},
   "outputs": [],
   "source": [
    "np.exp(ta)"
   ]
  },
  {
   "cell_type": "code",
   "execution_count": null,
   "metadata": {},
   "outputs": [],
   "source": [
    "np.sin(ta)"
   ]
  },
  {
   "cell_type": "code",
   "execution_count": null,
   "metadata": {},
   "outputs": [],
   "source": [
    "np.cos(ta)"
   ]
  },
  {
   "cell_type": "code",
   "execution_count": null,
   "metadata": {},
   "outputs": [],
   "source": [
    "np.tan(ta)"
   ]
  },
  {
   "cell_type": "code",
   "execution_count": null,
   "metadata": {},
   "outputs": [],
   "source": [
    "np.tanh(arr_real)"
   ]
  },
  {
   "cell_type": "code",
   "execution_count": null,
   "metadata": {},
   "outputs": [],
   "source": [
    "np.sinh(arr_real)"
   ]
  },
  {
   "cell_type": "code",
   "execution_count": null,
   "metadata": {},
   "outputs": [],
   "source": [
    "np.cosh(arr_real)"
   ]
  },
  {
   "cell_type": "code",
   "execution_count": null,
   "metadata": {},
   "outputs": [],
   "source": [
    "np.sinh(ta)"
   ]
  },
  {
   "cell_type": "code",
   "execution_count": null,
   "metadata": {},
   "outputs": [],
   "source": [
    "np.cosh(ta)"
   ]
  },
  {
   "cell_type": "code",
   "execution_count": null,
   "metadata": {},
   "outputs": [],
   "source": [
    "np.arcsin(1)"
   ]
  },
  {
   "cell_type": "code",
   "execution_count": null,
   "metadata": {},
   "outputs": [],
   "source": [
    "np.zeros(10)"
   ]
  },
  {
   "cell_type": "code",
   "execution_count": null,
   "metadata": {},
   "outputs": [],
   "source": [
    "np.ones(10)"
   ]
  },
  {
   "cell_type": "code",
   "execution_count": null,
   "metadata": {},
   "outputs": [],
   "source": [
    "np.ones(10) * 5"
   ]
  },
  {
   "cell_type": "code",
   "execution_count": null,
   "metadata": {},
   "outputs": [],
   "source": [
    "np.arange(10,51)"
   ]
  },
  {
   "cell_type": "code",
   "execution_count": null,
   "metadata": {},
   "outputs": [],
   "source": [
    "np.arange(10,51,2)"
   ]
  },
  {
   "cell_type": "code",
   "execution_count": null,
   "metadata": {},
   "outputs": [],
   "source": [
    "np.arange(0,9).reshape(3,3)"
   ]
  },
  {
   "cell_type": "code",
   "execution_count": null,
   "metadata": {},
   "outputs": [],
   "source": [
    "np.eye(3)"
   ]
  },
  {
   "cell_type": "code",
   "execution_count": null,
   "metadata": {},
   "outputs": [],
   "source": [
    "np.random.rand(1)"
   ]
  },
  {
   "cell_type": "code",
   "execution_count": null,
   "metadata": {},
   "outputs": [],
   "source": [
    "np.random.randn(25).reshape(5,5)"
   ]
  },
  {
   "cell_type": "code",
   "execution_count": null,
   "metadata": {},
   "outputs": [],
   "source": [
    "np.arange(0.01,1.01,0.01).reshape(10,10)"
   ]
  },
  {
   "cell_type": "code",
   "execution_count": null,
   "metadata": {},
   "outputs": [],
   "source": [
    "np.linspace(0,1,20)"
   ]
  },
  {
   "cell_type": "code",
   "execution_count": null,
   "metadata": {},
   "outputs": [],
   "source": [
    "mat=np.arange(1,26).reshape(5,5)\n",
    "mat"
   ]
  },
  {
   "cell_type": "code",
   "execution_count": null,
   "metadata": {},
   "outputs": [],
   "source": [
    "mat[2:,1:]"
   ]
  },
  {
   "cell_type": "code",
   "execution_count": null,
   "metadata": {},
   "outputs": [],
   "source": [
    "mat[3,4]"
   ]
  },
  {
   "cell_type": "code",
   "execution_count": null,
   "metadata": {},
   "outputs": [],
   "source": [
    "mat[:3,1:2]"
   ]
  },
  {
   "cell_type": "code",
   "execution_count": null,
   "metadata": {},
   "outputs": [],
   "source": [
    "mat[-1]"
   ]
  },
  {
   "cell_type": "code",
   "execution_count": null,
   "metadata": {},
   "outputs": [],
   "source": [
    "mat[3:]"
   ]
  },
  {
   "cell_type": "code",
   "execution_count": null,
   "metadata": {},
   "outputs": [],
   "source": [
    "mat.sum()"
   ]
  },
  {
   "cell_type": "code",
   "execution_count": null,
   "metadata": {},
   "outputs": [],
   "source": [
    "mat.std()"
   ]
  },
  {
   "cell_type": "code",
   "execution_count": null,
   "metadata": {},
   "outputs": [],
   "source": [
    "mat.sum(axis=0) # Add by columns"
   ]
  },
  {
   "cell_type": "code",
   "execution_count": null,
   "metadata": {},
   "outputs": [],
   "source": [
    "mat.sum(axis=1) # Add by rows"
   ]
  },
  {
   "cell_type": "code",
   "execution_count": null,
   "metadata": {},
   "outputs": [],
   "source": [
    "np.random.standard_normal(10)"
   ]
  },
  {
   "cell_type": "code",
   "execution_count": null,
   "metadata": {},
   "outputs": [],
   "source": [
    "std=np.random.randn(15).reshape(5,3)\n",
    "std"
   ]
  },
  {
   "cell_type": "code",
   "execution_count": null,
   "metadata": {},
   "outputs": [],
   "source": [
    "std.sum(axis=1), std.sum(axis=0)"
   ]
  },
  {
   "cell_type": "code",
   "execution_count": null,
   "metadata": {},
   "outputs": [],
   "source": [
    "np.multiply(std,std)"
   ]
  },
  {
   "cell_type": "code",
   "execution_count": null,
   "metadata": {},
   "outputs": [],
   "source": [
    "dat=np.log1p(std)\n",
    "print(dat)\n",
    "for row in range(dat.shape[0]):\n",
    "    for col in range(dat.shape[1]):\n",
    "        if dat[row,col]==np.nan:\n",
    "            print(\"{} is a not a number\".format(row,col))\n",
    "            print(dat[row,col])\n",
    "        else:\n",
    "            print(dat[row,col])\n"
   ]
  },
  {
   "cell_type": "code",
   "execution_count": null,
   "metadata": {},
   "outputs": [],
   "source": [
    "t=np.array([[[[5,4],[9,4],[6,9],[4,7],[3,10]]]])\n",
    "t"
   ]
  },
  {
   "cell_type": "code",
   "execution_count": null,
   "metadata": {},
   "outputs": [],
   "source": [
    "t.shape\n"
   ]
  },
  {
   "cell_type": "code",
   "execution_count": null,
   "metadata": {},
   "outputs": [],
   "source": [
    "t[0][0][4]"
   ]
  },
  {
   "cell_type": "code",
   "execution_count": null,
   "metadata": {},
   "outputs": [],
   "source": [
    "import numpy as np\n",
    "\n",
    "a=np.array([[1,2,3],[4,5,6],[7,8,9]])\n",
    "\n",
    "b=np.array([[9,8,7],[6,5,4],[3,2,1]])\n",
    "\n",
    "np.multiply(a,b)"
   ]
  },
  {
   "cell_type": "code",
   "execution_count": null,
   "metadata": {},
   "outputs": [],
   "source": [
    "def matrixmult (A, B):\n",
    "    rows_A = len(A)\n",
    "    cols_A = len(A[0])\n",
    "    rows_B = len(B)\n",
    "    cols_B = len(B[0])\n",
    "    print(len(A),len(A[0]),len(B),len(B[0]))\n",
    "\n",
    "    if cols_A != rows_B:\n",
    "      print(\"Cannot multiply the two matrices. Incorrect dimensions.\")\n",
    "      return\n",
    "\n",
    "    # Create the result matrix\n",
    "    # Dimensions would be rows_A x cols_B\n",
    "    C = [[0 for row in range(cols_B)] for col in range(rows_A)]\n",
    "    #print(C)\n",
    "\n",
    "    for i in range(rows_A):\n",
    "        for j in range(cols_B):\n",
    "            for k in range(cols_A):\n",
    "                C[i][j] += A[i][k] * B[k][j]\n",
    "            \n",
    "    return C\n",
    "\n",
    "a=np.arange(30).reshape(6,5)\n",
    "b=np.arange(10,40).reshape(5,6)\n",
    "#c=np.matmul(a,b)\n",
    "#c\n",
    "c=matrixmult(a,b)\n",
    "print(c,\"\\n\\n\",np.matmul(a,b))\n"
   ]
  },
  {
   "cell_type": "code",
   "execution_count": 7,
   "metadata": {},
   "outputs": [
    {
     "data": {
      "text/html": [
       "<div>\n",
       "<style scoped>\n",
       "    .dataframe tbody tr th:only-of-type {\n",
       "        vertical-align: middle;\n",
       "    }\n",
       "\n",
       "    .dataframe tbody tr th {\n",
       "        vertical-align: top;\n",
       "    }\n",
       "\n",
       "    .dataframe thead th {\n",
       "        text-align: right;\n",
       "    }\n",
       "</style>\n",
       "<table border=\"1\" class=\"dataframe\">\n",
       "  <thead>\n",
       "    <tr style=\"text-align: right;\">\n",
       "      <th></th>\n",
       "      <th>2018-05-01 00:00:00</th>\n",
       "      <th>2018-05-02 00:00:00</th>\n",
       "      <th>2018-05-03 00:00:00</th>\n",
       "      <th>2018-05-04 00:00:00</th>\n",
       "      <th>2018-05-05 00:00:00</th>\n",
       "    </tr>\n",
       "  </thead>\n",
       "  <tbody>\n",
       "    <tr>\n",
       "      <th>FB</th>\n",
       "      <td>2241</td>\n",
       "      <td>4662</td>\n",
       "      <td>4610</td>\n",
       "      <td>7535</td>\n",
       "      <td>3758</td>\n",
       "    </tr>\n",
       "    <tr>\n",
       "      <th>FB</th>\n",
       "      <td>9494</td>\n",
       "      <td>512</td>\n",
       "      <td>9559</td>\n",
       "      <td>8066</td>\n",
       "      <td>691</td>\n",
       "    </tr>\n",
       "    <tr>\n",
       "      <th>GOOG</th>\n",
       "      <td>1483</td>\n",
       "      <td>8420</td>\n",
       "      <td>3792</td>\n",
       "      <td>9072</td>\n",
       "      <td>2691</td>\n",
       "    </tr>\n",
       "    <tr>\n",
       "      <th>GOOG</th>\n",
       "      <td>4622</td>\n",
       "      <td>8018</td>\n",
       "      <td>3441</td>\n",
       "      <td>8205</td>\n",
       "      <td>8599</td>\n",
       "    </tr>\n",
       "    <tr>\n",
       "      <th>AMZN</th>\n",
       "      <td>8542</td>\n",
       "      <td>1635</td>\n",
       "      <td>4641</td>\n",
       "      <td>7187</td>\n",
       "      <td>1216</td>\n",
       "    </tr>\n",
       "    <tr>\n",
       "      <th>AMZN</th>\n",
       "      <td>5874</td>\n",
       "      <td>5852</td>\n",
       "      <td>2534</td>\n",
       "      <td>5144</td>\n",
       "      <td>8613</td>\n",
       "    </tr>\n",
       "    <tr>\n",
       "      <th>MSFT</th>\n",
       "      <td>1728</td>\n",
       "      <td>7555</td>\n",
       "      <td>9442</td>\n",
       "      <td>2647</td>\n",
       "      <td>7305</td>\n",
       "    </tr>\n",
       "    <tr>\n",
       "      <th>MSFT</th>\n",
       "      <td>7343</td>\n",
       "      <td>7138</td>\n",
       "      <td>2399</td>\n",
       "      <td>737</td>\n",
       "      <td>1126</td>\n",
       "    </tr>\n",
       "    <tr>\n",
       "      <th>AAPL</th>\n",
       "      <td>7540</td>\n",
       "      <td>9726</td>\n",
       "      <td>2332</td>\n",
       "      <td>3343</td>\n",
       "      <td>7321</td>\n",
       "    </tr>\n",
       "    <tr>\n",
       "      <th>AAPL</th>\n",
       "      <td>3207</td>\n",
       "      <td>4568</td>\n",
       "      <td>7583</td>\n",
       "      <td>7369</td>\n",
       "      <td>5126</td>\n",
       "    </tr>\n",
       "  </tbody>\n",
       "</table>\n",
       "</div>"
      ],
      "text/plain": [
       "      2018-05-01  2018-05-02  2018-05-03  2018-05-04  2018-05-05\n",
       "FB          2241        4662        4610        7535        3758\n",
       "FB          9494         512        9559        8066         691\n",
       "GOOG        1483        8420        3792        9072        2691\n",
       "GOOG        4622        8018        3441        8205        8599\n",
       "AMZN        8542        1635        4641        7187        1216\n",
       "AMZN        5874        5852        2534        5144        8613\n",
       "MSFT        1728        7555        9442        2647        7305\n",
       "MSFT        7343        7138        2399         737        1126\n",
       "AAPL        7540        9726        2332        3343        7321\n",
       "AAPL        3207        4568        7583        7369        5126"
      ]
     },
     "execution_count": 7,
     "metadata": {},
     "output_type": "execute_result"
    }
   ],
   "source": [
    "import numpy as np\n",
    "import pandas as pd\n",
    "\n",
    "org = 'FB FB GOOG GOOG AMZN AMZN MSFT MSFT AAPL AAPL'.split()\n",
    "period = pd.date_range('20180501', periods=5)\n",
    "sales = np.random.randint(500,10000,(10,5))\n",
    "df = pd.DataFrame(sales,org,period)\n",
    "df"
   ]
  },
  {
   "cell_type": "code",
   "execution_count": null,
   "metadata": {},
   "outputs": [],
   "source": [
    "orgdf = df.groupby(org)"
   ]
  },
  {
   "cell_type": "code",
   "execution_count": null,
   "metadata": {},
   "outputs": [],
   "source": [
    "orgdf.max()\n"
   ]
  },
  {
   "cell_type": "code",
   "execution_count": null,
   "metadata": {},
   "outputs": [],
   "source": [
    "orgdf.min()"
   ]
  },
  {
   "cell_type": "code",
   "execution_count": null,
   "metadata": {},
   "outputs": [],
   "source": [
    "orgdf.mean()"
   ]
  },
  {
   "cell_type": "code",
   "execution_count": null,
   "metadata": {},
   "outputs": [],
   "source": [
    "orgdf.sum()"
   ]
  },
  {
   "cell_type": "code",
   "execution_count": null,
   "metadata": {},
   "outputs": [],
   "source": [
    "orgdf.sum().loc['GOOG']"
   ]
  },
  {
   "cell_type": "code",
   "execution_count": null,
   "metadata": {},
   "outputs": [],
   "source": [
    "df.groupby(org).sum()"
   ]
  },
  {
   "cell_type": "code",
   "execution_count": null,
   "metadata": {},
   "outputs": [],
   "source": [
    "df.groupby(org).mean()"
   ]
  },
  {
   "cell_type": "code",
   "execution_count": 8,
   "metadata": {},
   "outputs": [
    {
     "data": {
      "text/html": [
       "<div>\n",
       "<style scoped>\n",
       "    .dataframe tbody tr th:only-of-type {\n",
       "        vertical-align: middle;\n",
       "    }\n",
       "\n",
       "    .dataframe tbody tr th {\n",
       "        vertical-align: top;\n",
       "    }\n",
       "\n",
       "    .dataframe thead th {\n",
       "        text-align: right;\n",
       "    }\n",
       "</style>\n",
       "<table border=\"1\" class=\"dataframe\">\n",
       "  <thead>\n",
       "    <tr style=\"text-align: right;\">\n",
       "      <th></th>\n",
       "      <th></th>\n",
       "      <th>AAPL</th>\n",
       "      <th>AMZN</th>\n",
       "      <th>FB</th>\n",
       "      <th>GOOG</th>\n",
       "      <th>MSFT</th>\n",
       "    </tr>\n",
       "  </thead>\n",
       "  <tbody>\n",
       "    <tr>\n",
       "      <th rowspan=\"9\" valign=\"top\">2018-05-01</th>\n",
       "      <th>count</th>\n",
       "      <td>2.000000</td>\n",
       "      <td>2.000000</td>\n",
       "      <td>2.000000</td>\n",
       "      <td>2.000000</td>\n",
       "      <td>2.000000</td>\n",
       "    </tr>\n",
       "    <tr>\n",
       "      <th>mean</th>\n",
       "      <td>5373.500000</td>\n",
       "      <td>7208.000000</td>\n",
       "      <td>5867.500000</td>\n",
       "      <td>3052.500000</td>\n",
       "      <td>4535.500000</td>\n",
       "    </tr>\n",
       "    <tr>\n",
       "      <th>std</th>\n",
       "      <td>3063.893683</td>\n",
       "      <td>1886.560892</td>\n",
       "      <td>5128.645484</td>\n",
       "      <td>2219.608186</td>\n",
       "      <td>3970.404576</td>\n",
       "    </tr>\n",
       "    <tr>\n",
       "      <th>min</th>\n",
       "      <td>3207.000000</td>\n",
       "      <td>5874.000000</td>\n",
       "      <td>2241.000000</td>\n",
       "      <td>1483.000000</td>\n",
       "      <td>1728.000000</td>\n",
       "    </tr>\n",
       "    <tr>\n",
       "      <th>0%</th>\n",
       "      <td>3207.000000</td>\n",
       "      <td>5874.000000</td>\n",
       "      <td>2241.000000</td>\n",
       "      <td>1483.000000</td>\n",
       "      <td>1728.000000</td>\n",
       "    </tr>\n",
       "    <tr>\n",
       "      <th>25%</th>\n",
       "      <td>4290.250000</td>\n",
       "      <td>6541.000000</td>\n",
       "      <td>4054.250000</td>\n",
       "      <td>2267.750000</td>\n",
       "      <td>3131.750000</td>\n",
       "    </tr>\n",
       "    <tr>\n",
       "      <th>50%</th>\n",
       "      <td>5373.500000</td>\n",
       "      <td>7208.000000</td>\n",
       "      <td>5867.500000</td>\n",
       "      <td>3052.500000</td>\n",
       "      <td>4535.500000</td>\n",
       "    </tr>\n",
       "    <tr>\n",
       "      <th>75%</th>\n",
       "      <td>6456.750000</td>\n",
       "      <td>7875.000000</td>\n",
       "      <td>7680.750000</td>\n",
       "      <td>3837.250000</td>\n",
       "      <td>5939.250000</td>\n",
       "    </tr>\n",
       "    <tr>\n",
       "      <th>max</th>\n",
       "      <td>7540.000000</td>\n",
       "      <td>8542.000000</td>\n",
       "      <td>9494.000000</td>\n",
       "      <td>4622.000000</td>\n",
       "      <td>7343.000000</td>\n",
       "    </tr>\n",
       "    <tr>\n",
       "      <th rowspan=\"9\" valign=\"top\">2018-05-02</th>\n",
       "      <th>count</th>\n",
       "      <td>2.000000</td>\n",
       "      <td>2.000000</td>\n",
       "      <td>2.000000</td>\n",
       "      <td>2.000000</td>\n",
       "      <td>2.000000</td>\n",
       "    </tr>\n",
       "    <tr>\n",
       "      <th>mean</th>\n",
       "      <td>7147.000000</td>\n",
       "      <td>3743.500000</td>\n",
       "      <td>2587.000000</td>\n",
       "      <td>8219.000000</td>\n",
       "      <td>7346.500000</td>\n",
       "    </tr>\n",
       "    <tr>\n",
       "      <th>std</th>\n",
       "      <td>3647.256777</td>\n",
       "      <td>2981.869296</td>\n",
       "      <td>2934.493142</td>\n",
       "      <td>284.256926</td>\n",
       "      <td>294.863528</td>\n",
       "    </tr>\n",
       "    <tr>\n",
       "      <th>min</th>\n",
       "      <td>4568.000000</td>\n",
       "      <td>1635.000000</td>\n",
       "      <td>512.000000</td>\n",
       "      <td>8018.000000</td>\n",
       "      <td>7138.000000</td>\n",
       "    </tr>\n",
       "    <tr>\n",
       "      <th>0%</th>\n",
       "      <td>4568.000000</td>\n",
       "      <td>1635.000000</td>\n",
       "      <td>512.000000</td>\n",
       "      <td>8018.000000</td>\n",
       "      <td>7138.000000</td>\n",
       "    </tr>\n",
       "    <tr>\n",
       "      <th>25%</th>\n",
       "      <td>5857.500000</td>\n",
       "      <td>2689.250000</td>\n",
       "      <td>1549.500000</td>\n",
       "      <td>8118.500000</td>\n",
       "      <td>7242.250000</td>\n",
       "    </tr>\n",
       "    <tr>\n",
       "      <th>50%</th>\n",
       "      <td>7147.000000</td>\n",
       "      <td>3743.500000</td>\n",
       "      <td>2587.000000</td>\n",
       "      <td>8219.000000</td>\n",
       "      <td>7346.500000</td>\n",
       "    </tr>\n",
       "    <tr>\n",
       "      <th>75%</th>\n",
       "      <td>8436.500000</td>\n",
       "      <td>4797.750000</td>\n",
       "      <td>3624.500000</td>\n",
       "      <td>8319.500000</td>\n",
       "      <td>7450.750000</td>\n",
       "    </tr>\n",
       "    <tr>\n",
       "      <th>max</th>\n",
       "      <td>9726.000000</td>\n",
       "      <td>5852.000000</td>\n",
       "      <td>4662.000000</td>\n",
       "      <td>8420.000000</td>\n",
       "      <td>7555.000000</td>\n",
       "    </tr>\n",
       "    <tr>\n",
       "      <th rowspan=\"9\" valign=\"top\">2018-05-03</th>\n",
       "      <th>count</th>\n",
       "      <td>2.000000</td>\n",
       "      <td>2.000000</td>\n",
       "      <td>2.000000</td>\n",
       "      <td>2.000000</td>\n",
       "      <td>2.000000</td>\n",
       "    </tr>\n",
       "    <tr>\n",
       "      <th>mean</th>\n",
       "      <td>4957.500000</td>\n",
       "      <td>3587.500000</td>\n",
       "      <td>7084.500000</td>\n",
       "      <td>3616.500000</td>\n",
       "      <td>5920.500000</td>\n",
       "    </tr>\n",
       "    <tr>\n",
       "      <th>std</th>\n",
       "      <td>3713.017708</td>\n",
       "      <td>1489.873988</td>\n",
       "      <td>3499.471460</td>\n",
       "      <td>248.194480</td>\n",
       "      <td>4980.153060</td>\n",
       "    </tr>\n",
       "    <tr>\n",
       "      <th>min</th>\n",
       "      <td>2332.000000</td>\n",
       "      <td>2534.000000</td>\n",
       "      <td>4610.000000</td>\n",
       "      <td>3441.000000</td>\n",
       "      <td>2399.000000</td>\n",
       "    </tr>\n",
       "    <tr>\n",
       "      <th>0%</th>\n",
       "      <td>2332.000000</td>\n",
       "      <td>2534.000000</td>\n",
       "      <td>4610.000000</td>\n",
       "      <td>3441.000000</td>\n",
       "      <td>2399.000000</td>\n",
       "    </tr>\n",
       "    <tr>\n",
       "      <th>25%</th>\n",
       "      <td>3644.750000</td>\n",
       "      <td>3060.750000</td>\n",
       "      <td>5847.250000</td>\n",
       "      <td>3528.750000</td>\n",
       "      <td>4159.750000</td>\n",
       "    </tr>\n",
       "    <tr>\n",
       "      <th>50%</th>\n",
       "      <td>4957.500000</td>\n",
       "      <td>3587.500000</td>\n",
       "      <td>7084.500000</td>\n",
       "      <td>3616.500000</td>\n",
       "      <td>5920.500000</td>\n",
       "    </tr>\n",
       "    <tr>\n",
       "      <th>75%</th>\n",
       "      <td>6270.250000</td>\n",
       "      <td>4114.250000</td>\n",
       "      <td>8321.750000</td>\n",
       "      <td>3704.250000</td>\n",
       "      <td>7681.250000</td>\n",
       "    </tr>\n",
       "    <tr>\n",
       "      <th>max</th>\n",
       "      <td>7583.000000</td>\n",
       "      <td>4641.000000</td>\n",
       "      <td>9559.000000</td>\n",
       "      <td>3792.000000</td>\n",
       "      <td>9442.000000</td>\n",
       "    </tr>\n",
       "    <tr>\n",
       "      <th rowspan=\"9\" valign=\"top\">2018-05-04</th>\n",
       "      <th>count</th>\n",
       "      <td>2.000000</td>\n",
       "      <td>2.000000</td>\n",
       "      <td>2.000000</td>\n",
       "      <td>2.000000</td>\n",
       "      <td>2.000000</td>\n",
       "    </tr>\n",
       "    <tr>\n",
       "      <th>mean</th>\n",
       "      <td>5356.000000</td>\n",
       "      <td>6165.500000</td>\n",
       "      <td>7800.500000</td>\n",
       "      <td>8638.500000</td>\n",
       "      <td>1692.000000</td>\n",
       "    </tr>\n",
       "    <tr>\n",
       "      <th>std</th>\n",
       "      <td>2846.811901</td>\n",
       "      <td>1444.619154</td>\n",
       "      <td>375.473701</td>\n",
       "      <td>613.061579</td>\n",
       "      <td>1350.573952</td>\n",
       "    </tr>\n",
       "    <tr>\n",
       "      <th>min</th>\n",
       "      <td>3343.000000</td>\n",
       "      <td>5144.000000</td>\n",
       "      <td>7535.000000</td>\n",
       "      <td>8205.000000</td>\n",
       "      <td>737.000000</td>\n",
       "    </tr>\n",
       "    <tr>\n",
       "      <th>0%</th>\n",
       "      <td>3343.000000</td>\n",
       "      <td>5144.000000</td>\n",
       "      <td>7535.000000</td>\n",
       "      <td>8205.000000</td>\n",
       "      <td>737.000000</td>\n",
       "    </tr>\n",
       "    <tr>\n",
       "      <th>25%</th>\n",
       "      <td>4349.500000</td>\n",
       "      <td>5654.750000</td>\n",
       "      <td>7667.750000</td>\n",
       "      <td>8421.750000</td>\n",
       "      <td>1214.500000</td>\n",
       "    </tr>\n",
       "    <tr>\n",
       "      <th>50%</th>\n",
       "      <td>5356.000000</td>\n",
       "      <td>6165.500000</td>\n",
       "      <td>7800.500000</td>\n",
       "      <td>8638.500000</td>\n",
       "      <td>1692.000000</td>\n",
       "    </tr>\n",
       "    <tr>\n",
       "      <th>75%</th>\n",
       "      <td>6362.500000</td>\n",
       "      <td>6676.250000</td>\n",
       "      <td>7933.250000</td>\n",
       "      <td>8855.250000</td>\n",
       "      <td>2169.500000</td>\n",
       "    </tr>\n",
       "    <tr>\n",
       "      <th>max</th>\n",
       "      <td>7369.000000</td>\n",
       "      <td>7187.000000</td>\n",
       "      <td>8066.000000</td>\n",
       "      <td>9072.000000</td>\n",
       "      <td>2647.000000</td>\n",
       "    </tr>\n",
       "    <tr>\n",
       "      <th rowspan=\"9\" valign=\"top\">2018-05-05</th>\n",
       "      <th>count</th>\n",
       "      <td>2.000000</td>\n",
       "      <td>2.000000</td>\n",
       "      <td>2.000000</td>\n",
       "      <td>2.000000</td>\n",
       "      <td>2.000000</td>\n",
       "    </tr>\n",
       "    <tr>\n",
       "      <th>mean</th>\n",
       "      <td>6223.500000</td>\n",
       "      <td>4914.500000</td>\n",
       "      <td>2224.500000</td>\n",
       "      <td>5645.000000</td>\n",
       "      <td>4215.500000</td>\n",
       "    </tr>\n",
       "    <tr>\n",
       "      <th>std</th>\n",
       "      <td>1552.099385</td>\n",
       "      <td>5230.468860</td>\n",
       "      <td>2168.696498</td>\n",
       "      <td>4177.586863</td>\n",
       "      <td>4369.212801</td>\n",
       "    </tr>\n",
       "    <tr>\n",
       "      <th>min</th>\n",
       "      <td>5126.000000</td>\n",
       "      <td>1216.000000</td>\n",
       "      <td>691.000000</td>\n",
       "      <td>2691.000000</td>\n",
       "      <td>1126.000000</td>\n",
       "    </tr>\n",
       "    <tr>\n",
       "      <th>0%</th>\n",
       "      <td>5126.000000</td>\n",
       "      <td>1216.000000</td>\n",
       "      <td>691.000000</td>\n",
       "      <td>2691.000000</td>\n",
       "      <td>1126.000000</td>\n",
       "    </tr>\n",
       "    <tr>\n",
       "      <th>25%</th>\n",
       "      <td>5674.750000</td>\n",
       "      <td>3065.250000</td>\n",
       "      <td>1457.750000</td>\n",
       "      <td>4168.000000</td>\n",
       "      <td>2670.750000</td>\n",
       "    </tr>\n",
       "    <tr>\n",
       "      <th>50%</th>\n",
       "      <td>6223.500000</td>\n",
       "      <td>4914.500000</td>\n",
       "      <td>2224.500000</td>\n",
       "      <td>5645.000000</td>\n",
       "      <td>4215.500000</td>\n",
       "    </tr>\n",
       "    <tr>\n",
       "      <th>75%</th>\n",
       "      <td>6772.250000</td>\n",
       "      <td>6763.750000</td>\n",
       "      <td>2991.250000</td>\n",
       "      <td>7122.000000</td>\n",
       "      <td>5760.250000</td>\n",
       "    </tr>\n",
       "    <tr>\n",
       "      <th>max</th>\n",
       "      <td>7321.000000</td>\n",
       "      <td>8613.000000</td>\n",
       "      <td>3758.000000</td>\n",
       "      <td>8599.000000</td>\n",
       "      <td>7305.000000</td>\n",
       "    </tr>\n",
       "  </tbody>\n",
       "</table>\n",
       "</div>"
      ],
      "text/plain": [
       "                         AAPL         AMZN           FB         GOOG  \\\n",
       "2018-05-01 count     2.000000     2.000000     2.000000     2.000000   \n",
       "           mean   5373.500000  7208.000000  5867.500000  3052.500000   \n",
       "           std    3063.893683  1886.560892  5128.645484  2219.608186   \n",
       "           min    3207.000000  5874.000000  2241.000000  1483.000000   \n",
       "           0%     3207.000000  5874.000000  2241.000000  1483.000000   \n",
       "           25%    4290.250000  6541.000000  4054.250000  2267.750000   \n",
       "           50%    5373.500000  7208.000000  5867.500000  3052.500000   \n",
       "           75%    6456.750000  7875.000000  7680.750000  3837.250000   \n",
       "           max    7540.000000  8542.000000  9494.000000  4622.000000   \n",
       "2018-05-02 count     2.000000     2.000000     2.000000     2.000000   \n",
       "           mean   7147.000000  3743.500000  2587.000000  8219.000000   \n",
       "           std    3647.256777  2981.869296  2934.493142   284.256926   \n",
       "           min    4568.000000  1635.000000   512.000000  8018.000000   \n",
       "           0%     4568.000000  1635.000000   512.000000  8018.000000   \n",
       "           25%    5857.500000  2689.250000  1549.500000  8118.500000   \n",
       "           50%    7147.000000  3743.500000  2587.000000  8219.000000   \n",
       "           75%    8436.500000  4797.750000  3624.500000  8319.500000   \n",
       "           max    9726.000000  5852.000000  4662.000000  8420.000000   \n",
       "2018-05-03 count     2.000000     2.000000     2.000000     2.000000   \n",
       "           mean   4957.500000  3587.500000  7084.500000  3616.500000   \n",
       "           std    3713.017708  1489.873988  3499.471460   248.194480   \n",
       "           min    2332.000000  2534.000000  4610.000000  3441.000000   \n",
       "           0%     2332.000000  2534.000000  4610.000000  3441.000000   \n",
       "           25%    3644.750000  3060.750000  5847.250000  3528.750000   \n",
       "           50%    4957.500000  3587.500000  7084.500000  3616.500000   \n",
       "           75%    6270.250000  4114.250000  8321.750000  3704.250000   \n",
       "           max    7583.000000  4641.000000  9559.000000  3792.000000   \n",
       "2018-05-04 count     2.000000     2.000000     2.000000     2.000000   \n",
       "           mean   5356.000000  6165.500000  7800.500000  8638.500000   \n",
       "           std    2846.811901  1444.619154   375.473701   613.061579   \n",
       "           min    3343.000000  5144.000000  7535.000000  8205.000000   \n",
       "           0%     3343.000000  5144.000000  7535.000000  8205.000000   \n",
       "           25%    4349.500000  5654.750000  7667.750000  8421.750000   \n",
       "           50%    5356.000000  6165.500000  7800.500000  8638.500000   \n",
       "           75%    6362.500000  6676.250000  7933.250000  8855.250000   \n",
       "           max    7369.000000  7187.000000  8066.000000  9072.000000   \n",
       "2018-05-05 count     2.000000     2.000000     2.000000     2.000000   \n",
       "           mean   6223.500000  4914.500000  2224.500000  5645.000000   \n",
       "           std    1552.099385  5230.468860  2168.696498  4177.586863   \n",
       "           min    5126.000000  1216.000000   691.000000  2691.000000   \n",
       "           0%     5126.000000  1216.000000   691.000000  2691.000000   \n",
       "           25%    5674.750000  3065.250000  1457.750000  4168.000000   \n",
       "           50%    6223.500000  4914.500000  2224.500000  5645.000000   \n",
       "           75%    6772.250000  6763.750000  2991.250000  7122.000000   \n",
       "           max    7321.000000  8613.000000  3758.000000  8599.000000   \n",
       "\n",
       "                         MSFT  \n",
       "2018-05-01 count     2.000000  \n",
       "           mean   4535.500000  \n",
       "           std    3970.404576  \n",
       "           min    1728.000000  \n",
       "           0%     1728.000000  \n",
       "           25%    3131.750000  \n",
       "           50%    4535.500000  \n",
       "           75%    5939.250000  \n",
       "           max    7343.000000  \n",
       "2018-05-02 count     2.000000  \n",
       "           mean   7346.500000  \n",
       "           std     294.863528  \n",
       "           min    7138.000000  \n",
       "           0%     7138.000000  \n",
       "           25%    7242.250000  \n",
       "           50%    7346.500000  \n",
       "           75%    7450.750000  \n",
       "           max    7555.000000  \n",
       "2018-05-03 count     2.000000  \n",
       "           mean   5920.500000  \n",
       "           std    4980.153060  \n",
       "           min    2399.000000  \n",
       "           0%     2399.000000  \n",
       "           25%    4159.750000  \n",
       "           50%    5920.500000  \n",
       "           75%    7681.250000  \n",
       "           max    9442.000000  \n",
       "2018-05-04 count     2.000000  \n",
       "           mean   1692.000000  \n",
       "           std    1350.573952  \n",
       "           min     737.000000  \n",
       "           0%      737.000000  \n",
       "           25%    1214.500000  \n",
       "           50%    1692.000000  \n",
       "           75%    2169.500000  \n",
       "           max    2647.000000  \n",
       "2018-05-05 count     2.000000  \n",
       "           mean   4215.500000  \n",
       "           std    4369.212801  \n",
       "           min    1126.000000  \n",
       "           0%     1126.000000  \n",
       "           25%    2670.750000  \n",
       "           50%    4215.500000  \n",
       "           75%    5760.250000  \n",
       "           max    7305.000000  "
      ]
     },
     "execution_count": 8,
     "metadata": {},
     "output_type": "execute_result"
    }
   ],
   "source": [
    "df.groupby(org).describe(percentiles=np.arange(0.0,0.91,0.25)).T"
   ]
  },
  {
   "cell_type": "code",
   "execution_count": 11,
   "metadata": {},
   "outputs": [
    {
     "data": {
      "text/plain": [
       "array([0.  , 0.25, 0.5 , 0.75])"
      ]
     },
     "execution_count": 11,
     "metadata": {},
     "output_type": "execute_result"
    }
   ],
   "source": [
    "deciles = np.arange(0.0,0.91,0.25)\n",
    "deciles"
   ]
  },
  {
   "cell_type": "code",
   "execution_count": 13,
   "metadata": {},
   "outputs": [
    {
     "data": {
      "text/html": [
       "<div>\n",
       "<style scoped>\n",
       "    .dataframe tbody tr th:only-of-type {\n",
       "        vertical-align: middle;\n",
       "    }\n",
       "\n",
       "    .dataframe tbody tr th {\n",
       "        vertical-align: top;\n",
       "    }\n",
       "\n",
       "    .dataframe thead th {\n",
       "        text-align: right;\n",
       "    }\n",
       "</style>\n",
       "<table border=\"1\" class=\"dataframe\">\n",
       "  <thead>\n",
       "    <tr style=\"text-align: right;\">\n",
       "      <th></th>\n",
       "      <th></th>\n",
       "      <th>AAPL</th>\n",
       "      <th>AMZN</th>\n",
       "      <th>FB</th>\n",
       "      <th>GOOG</th>\n",
       "      <th>MSFT</th>\n",
       "    </tr>\n",
       "  </thead>\n",
       "  <tbody>\n",
       "    <tr>\n",
       "      <th rowspan=\"8\" valign=\"top\">2018-05-01</th>\n",
       "      <th>count</th>\n",
       "      <td>2.000000</td>\n",
       "      <td>2.000000</td>\n",
       "      <td>2.000000</td>\n",
       "      <td>2.000000</td>\n",
       "      <td>2.000000</td>\n",
       "    </tr>\n",
       "    <tr>\n",
       "      <th>mean</th>\n",
       "      <td>5373.500000</td>\n",
       "      <td>7208.000000</td>\n",
       "      <td>5867.500000</td>\n",
       "      <td>3052.500000</td>\n",
       "      <td>4535.500000</td>\n",
       "    </tr>\n",
       "    <tr>\n",
       "      <th>std</th>\n",
       "      <td>3063.893683</td>\n",
       "      <td>1886.560892</td>\n",
       "      <td>5128.645484</td>\n",
       "      <td>2219.608186</td>\n",
       "      <td>3970.404576</td>\n",
       "    </tr>\n",
       "    <tr>\n",
       "      <th>min</th>\n",
       "      <td>3207.000000</td>\n",
       "      <td>5874.000000</td>\n",
       "      <td>2241.000000</td>\n",
       "      <td>1483.000000</td>\n",
       "      <td>1728.000000</td>\n",
       "    </tr>\n",
       "    <tr>\n",
       "      <th>25%</th>\n",
       "      <td>4290.250000</td>\n",
       "      <td>6541.000000</td>\n",
       "      <td>4054.250000</td>\n",
       "      <td>2267.750000</td>\n",
       "      <td>3131.750000</td>\n",
       "    </tr>\n",
       "    <tr>\n",
       "      <th>50%</th>\n",
       "      <td>5373.500000</td>\n",
       "      <td>7208.000000</td>\n",
       "      <td>5867.500000</td>\n",
       "      <td>3052.500000</td>\n",
       "      <td>4535.500000</td>\n",
       "    </tr>\n",
       "    <tr>\n",
       "      <th>75%</th>\n",
       "      <td>6456.750000</td>\n",
       "      <td>7875.000000</td>\n",
       "      <td>7680.750000</td>\n",
       "      <td>3837.250000</td>\n",
       "      <td>5939.250000</td>\n",
       "    </tr>\n",
       "    <tr>\n",
       "      <th>max</th>\n",
       "      <td>7540.000000</td>\n",
       "      <td>8542.000000</td>\n",
       "      <td>9494.000000</td>\n",
       "      <td>4622.000000</td>\n",
       "      <td>7343.000000</td>\n",
       "    </tr>\n",
       "    <tr>\n",
       "      <th rowspan=\"8\" valign=\"top\">2018-05-02</th>\n",
       "      <th>count</th>\n",
       "      <td>2.000000</td>\n",
       "      <td>2.000000</td>\n",
       "      <td>2.000000</td>\n",
       "      <td>2.000000</td>\n",
       "      <td>2.000000</td>\n",
       "    </tr>\n",
       "    <tr>\n",
       "      <th>mean</th>\n",
       "      <td>7147.000000</td>\n",
       "      <td>3743.500000</td>\n",
       "      <td>2587.000000</td>\n",
       "      <td>8219.000000</td>\n",
       "      <td>7346.500000</td>\n",
       "    </tr>\n",
       "    <tr>\n",
       "      <th>std</th>\n",
       "      <td>3647.256777</td>\n",
       "      <td>2981.869296</td>\n",
       "      <td>2934.493142</td>\n",
       "      <td>284.256926</td>\n",
       "      <td>294.863528</td>\n",
       "    </tr>\n",
       "    <tr>\n",
       "      <th>min</th>\n",
       "      <td>4568.000000</td>\n",
       "      <td>1635.000000</td>\n",
       "      <td>512.000000</td>\n",
       "      <td>8018.000000</td>\n",
       "      <td>7138.000000</td>\n",
       "    </tr>\n",
       "    <tr>\n",
       "      <th>25%</th>\n",
       "      <td>5857.500000</td>\n",
       "      <td>2689.250000</td>\n",
       "      <td>1549.500000</td>\n",
       "      <td>8118.500000</td>\n",
       "      <td>7242.250000</td>\n",
       "    </tr>\n",
       "    <tr>\n",
       "      <th>50%</th>\n",
       "      <td>7147.000000</td>\n",
       "      <td>3743.500000</td>\n",
       "      <td>2587.000000</td>\n",
       "      <td>8219.000000</td>\n",
       "      <td>7346.500000</td>\n",
       "    </tr>\n",
       "    <tr>\n",
       "      <th>75%</th>\n",
       "      <td>8436.500000</td>\n",
       "      <td>4797.750000</td>\n",
       "      <td>3624.500000</td>\n",
       "      <td>8319.500000</td>\n",
       "      <td>7450.750000</td>\n",
       "    </tr>\n",
       "    <tr>\n",
       "      <th>max</th>\n",
       "      <td>9726.000000</td>\n",
       "      <td>5852.000000</td>\n",
       "      <td>4662.000000</td>\n",
       "      <td>8420.000000</td>\n",
       "      <td>7555.000000</td>\n",
       "    </tr>\n",
       "    <tr>\n",
       "      <th rowspan=\"8\" valign=\"top\">2018-05-03</th>\n",
       "      <th>count</th>\n",
       "      <td>2.000000</td>\n",
       "      <td>2.000000</td>\n",
       "      <td>2.000000</td>\n",
       "      <td>2.000000</td>\n",
       "      <td>2.000000</td>\n",
       "    </tr>\n",
       "    <tr>\n",
       "      <th>mean</th>\n",
       "      <td>4957.500000</td>\n",
       "      <td>3587.500000</td>\n",
       "      <td>7084.500000</td>\n",
       "      <td>3616.500000</td>\n",
       "      <td>5920.500000</td>\n",
       "    </tr>\n",
       "    <tr>\n",
       "      <th>std</th>\n",
       "      <td>3713.017708</td>\n",
       "      <td>1489.873988</td>\n",
       "      <td>3499.471460</td>\n",
       "      <td>248.194480</td>\n",
       "      <td>4980.153060</td>\n",
       "    </tr>\n",
       "    <tr>\n",
       "      <th>min</th>\n",
       "      <td>2332.000000</td>\n",
       "      <td>2534.000000</td>\n",
       "      <td>4610.000000</td>\n",
       "      <td>3441.000000</td>\n",
       "      <td>2399.000000</td>\n",
       "    </tr>\n",
       "    <tr>\n",
       "      <th>25%</th>\n",
       "      <td>3644.750000</td>\n",
       "      <td>3060.750000</td>\n",
       "      <td>5847.250000</td>\n",
       "      <td>3528.750000</td>\n",
       "      <td>4159.750000</td>\n",
       "    </tr>\n",
       "    <tr>\n",
       "      <th>50%</th>\n",
       "      <td>4957.500000</td>\n",
       "      <td>3587.500000</td>\n",
       "      <td>7084.500000</td>\n",
       "      <td>3616.500000</td>\n",
       "      <td>5920.500000</td>\n",
       "    </tr>\n",
       "    <tr>\n",
       "      <th>75%</th>\n",
       "      <td>6270.250000</td>\n",
       "      <td>4114.250000</td>\n",
       "      <td>8321.750000</td>\n",
       "      <td>3704.250000</td>\n",
       "      <td>7681.250000</td>\n",
       "    </tr>\n",
       "    <tr>\n",
       "      <th>max</th>\n",
       "      <td>7583.000000</td>\n",
       "      <td>4641.000000</td>\n",
       "      <td>9559.000000</td>\n",
       "      <td>3792.000000</td>\n",
       "      <td>9442.000000</td>\n",
       "    </tr>\n",
       "    <tr>\n",
       "      <th rowspan=\"8\" valign=\"top\">2018-05-04</th>\n",
       "      <th>count</th>\n",
       "      <td>2.000000</td>\n",
       "      <td>2.000000</td>\n",
       "      <td>2.000000</td>\n",
       "      <td>2.000000</td>\n",
       "      <td>2.000000</td>\n",
       "    </tr>\n",
       "    <tr>\n",
       "      <th>mean</th>\n",
       "      <td>5356.000000</td>\n",
       "      <td>6165.500000</td>\n",
       "      <td>7800.500000</td>\n",
       "      <td>8638.500000</td>\n",
       "      <td>1692.000000</td>\n",
       "    </tr>\n",
       "    <tr>\n",
       "      <th>std</th>\n",
       "      <td>2846.811901</td>\n",
       "      <td>1444.619154</td>\n",
       "      <td>375.473701</td>\n",
       "      <td>613.061579</td>\n",
       "      <td>1350.573952</td>\n",
       "    </tr>\n",
       "    <tr>\n",
       "      <th>min</th>\n",
       "      <td>3343.000000</td>\n",
       "      <td>5144.000000</td>\n",
       "      <td>7535.000000</td>\n",
       "      <td>8205.000000</td>\n",
       "      <td>737.000000</td>\n",
       "    </tr>\n",
       "    <tr>\n",
       "      <th>25%</th>\n",
       "      <td>4349.500000</td>\n",
       "      <td>5654.750000</td>\n",
       "      <td>7667.750000</td>\n",
       "      <td>8421.750000</td>\n",
       "      <td>1214.500000</td>\n",
       "    </tr>\n",
       "    <tr>\n",
       "      <th>50%</th>\n",
       "      <td>5356.000000</td>\n",
       "      <td>6165.500000</td>\n",
       "      <td>7800.500000</td>\n",
       "      <td>8638.500000</td>\n",
       "      <td>1692.000000</td>\n",
       "    </tr>\n",
       "    <tr>\n",
       "      <th>75%</th>\n",
       "      <td>6362.500000</td>\n",
       "      <td>6676.250000</td>\n",
       "      <td>7933.250000</td>\n",
       "      <td>8855.250000</td>\n",
       "      <td>2169.500000</td>\n",
       "    </tr>\n",
       "    <tr>\n",
       "      <th>max</th>\n",
       "      <td>7369.000000</td>\n",
       "      <td>7187.000000</td>\n",
       "      <td>8066.000000</td>\n",
       "      <td>9072.000000</td>\n",
       "      <td>2647.000000</td>\n",
       "    </tr>\n",
       "    <tr>\n",
       "      <th rowspan=\"8\" valign=\"top\">2018-05-05</th>\n",
       "      <th>count</th>\n",
       "      <td>2.000000</td>\n",
       "      <td>2.000000</td>\n",
       "      <td>2.000000</td>\n",
       "      <td>2.000000</td>\n",
       "      <td>2.000000</td>\n",
       "    </tr>\n",
       "    <tr>\n",
       "      <th>mean</th>\n",
       "      <td>6223.500000</td>\n",
       "      <td>4914.500000</td>\n",
       "      <td>2224.500000</td>\n",
       "      <td>5645.000000</td>\n",
       "      <td>4215.500000</td>\n",
       "    </tr>\n",
       "    <tr>\n",
       "      <th>std</th>\n",
       "      <td>1552.099385</td>\n",
       "      <td>5230.468860</td>\n",
       "      <td>2168.696498</td>\n",
       "      <td>4177.586863</td>\n",
       "      <td>4369.212801</td>\n",
       "    </tr>\n",
       "    <tr>\n",
       "      <th>min</th>\n",
       "      <td>5126.000000</td>\n",
       "      <td>1216.000000</td>\n",
       "      <td>691.000000</td>\n",
       "      <td>2691.000000</td>\n",
       "      <td>1126.000000</td>\n",
       "    </tr>\n",
       "    <tr>\n",
       "      <th>25%</th>\n",
       "      <td>5674.750000</td>\n",
       "      <td>3065.250000</td>\n",
       "      <td>1457.750000</td>\n",
       "      <td>4168.000000</td>\n",
       "      <td>2670.750000</td>\n",
       "    </tr>\n",
       "    <tr>\n",
       "      <th>50%</th>\n",
       "      <td>6223.500000</td>\n",
       "      <td>4914.500000</td>\n",
       "      <td>2224.500000</td>\n",
       "      <td>5645.000000</td>\n",
       "      <td>4215.500000</td>\n",
       "    </tr>\n",
       "    <tr>\n",
       "      <th>75%</th>\n",
       "      <td>6772.250000</td>\n",
       "      <td>6763.750000</td>\n",
       "      <td>2991.250000</td>\n",
       "      <td>7122.000000</td>\n",
       "      <td>5760.250000</td>\n",
       "    </tr>\n",
       "    <tr>\n",
       "      <th>max</th>\n",
       "      <td>7321.000000</td>\n",
       "      <td>8613.000000</td>\n",
       "      <td>3758.000000</td>\n",
       "      <td>8599.000000</td>\n",
       "      <td>7305.000000</td>\n",
       "    </tr>\n",
       "  </tbody>\n",
       "</table>\n",
       "</div>"
      ],
      "text/plain": [
       "                         AAPL         AMZN           FB         GOOG  \\\n",
       "2018-05-01 count     2.000000     2.000000     2.000000     2.000000   \n",
       "           mean   5373.500000  7208.000000  5867.500000  3052.500000   \n",
       "           std    3063.893683  1886.560892  5128.645484  2219.608186   \n",
       "           min    3207.000000  5874.000000  2241.000000  1483.000000   \n",
       "           25%    4290.250000  6541.000000  4054.250000  2267.750000   \n",
       "           50%    5373.500000  7208.000000  5867.500000  3052.500000   \n",
       "           75%    6456.750000  7875.000000  7680.750000  3837.250000   \n",
       "           max    7540.000000  8542.000000  9494.000000  4622.000000   \n",
       "2018-05-02 count     2.000000     2.000000     2.000000     2.000000   \n",
       "           mean   7147.000000  3743.500000  2587.000000  8219.000000   \n",
       "           std    3647.256777  2981.869296  2934.493142   284.256926   \n",
       "           min    4568.000000  1635.000000   512.000000  8018.000000   \n",
       "           25%    5857.500000  2689.250000  1549.500000  8118.500000   \n",
       "           50%    7147.000000  3743.500000  2587.000000  8219.000000   \n",
       "           75%    8436.500000  4797.750000  3624.500000  8319.500000   \n",
       "           max    9726.000000  5852.000000  4662.000000  8420.000000   \n",
       "2018-05-03 count     2.000000     2.000000     2.000000     2.000000   \n",
       "           mean   4957.500000  3587.500000  7084.500000  3616.500000   \n",
       "           std    3713.017708  1489.873988  3499.471460   248.194480   \n",
       "           min    2332.000000  2534.000000  4610.000000  3441.000000   \n",
       "           25%    3644.750000  3060.750000  5847.250000  3528.750000   \n",
       "           50%    4957.500000  3587.500000  7084.500000  3616.500000   \n",
       "           75%    6270.250000  4114.250000  8321.750000  3704.250000   \n",
       "           max    7583.000000  4641.000000  9559.000000  3792.000000   \n",
       "2018-05-04 count     2.000000     2.000000     2.000000     2.000000   \n",
       "           mean   5356.000000  6165.500000  7800.500000  8638.500000   \n",
       "           std    2846.811901  1444.619154   375.473701   613.061579   \n",
       "           min    3343.000000  5144.000000  7535.000000  8205.000000   \n",
       "           25%    4349.500000  5654.750000  7667.750000  8421.750000   \n",
       "           50%    5356.000000  6165.500000  7800.500000  8638.500000   \n",
       "           75%    6362.500000  6676.250000  7933.250000  8855.250000   \n",
       "           max    7369.000000  7187.000000  8066.000000  9072.000000   \n",
       "2018-05-05 count     2.000000     2.000000     2.000000     2.000000   \n",
       "           mean   6223.500000  4914.500000  2224.500000  5645.000000   \n",
       "           std    1552.099385  5230.468860  2168.696498  4177.586863   \n",
       "           min    5126.000000  1216.000000   691.000000  2691.000000   \n",
       "           25%    5674.750000  3065.250000  1457.750000  4168.000000   \n",
       "           50%    6223.500000  4914.500000  2224.500000  5645.000000   \n",
       "           75%    6772.250000  6763.750000  2991.250000  7122.000000   \n",
       "           max    7321.000000  8613.000000  3758.000000  8599.000000   \n",
       "\n",
       "                         MSFT  \n",
       "2018-05-01 count     2.000000  \n",
       "           mean   4535.500000  \n",
       "           std    3970.404576  \n",
       "           min    1728.000000  \n",
       "           25%    3131.750000  \n",
       "           50%    4535.500000  \n",
       "           75%    5939.250000  \n",
       "           max    7343.000000  \n",
       "2018-05-02 count     2.000000  \n",
       "           mean   7346.500000  \n",
       "           std     294.863528  \n",
       "           min    7138.000000  \n",
       "           25%    7242.250000  \n",
       "           50%    7346.500000  \n",
       "           75%    7450.750000  \n",
       "           max    7555.000000  \n",
       "2018-05-03 count     2.000000  \n",
       "           mean   5920.500000  \n",
       "           std    4980.153060  \n",
       "           min    2399.000000  \n",
       "           25%    4159.750000  \n",
       "           50%    5920.500000  \n",
       "           75%    7681.250000  \n",
       "           max    9442.000000  \n",
       "2018-05-04 count     2.000000  \n",
       "           mean   1692.000000  \n",
       "           std    1350.573952  \n",
       "           min     737.000000  \n",
       "           25%    1214.500000  \n",
       "           50%    1692.000000  \n",
       "           75%    2169.500000  \n",
       "           max    2647.000000  \n",
       "2018-05-05 count     2.000000  \n",
       "           mean   4215.500000  \n",
       "           std    4369.212801  \n",
       "           min    1126.000000  \n",
       "           25%    2670.750000  \n",
       "           50%    4215.500000  \n",
       "           75%    5760.250000  \n",
       "           max    7305.000000  "
      ]
     },
     "execution_count": 13,
     "metadata": {},
     "output_type": "execute_result"
    }
   ],
   "source": [
    "df.groupby(org).describe().T"
   ]
  },
  {
   "cell_type": "code",
   "execution_count": 14,
   "metadata": {},
   "outputs": [
    {
     "data": {
      "text/html": [
       "<div style=\"width:100%;\"><div style=\"position:relative;width:100%;height:0;padding-bottom:60%;\"><iframe src=\"data:text/html;charset=utf-8;base64,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\" style=\"position:absolute;width:100%;height:100%;left:0;top:0;border:none !important;\" allowfullscreen webkitallowfullscreen mozallowfullscreen></iframe></div></div>"
      ],
      "text/plain": [
       "<folium.folium.Map at 0x1082c1940>"
      ]
     },
     "execution_count": 14,
     "metadata": {},
     "output_type": "execute_result"
    }
   ],
   "source": [
    "import folium \n",
    "from geopy.geocoders import Nominatim\n",
    "\n",
    "geolocator = Nominatim()\n",
    "loc = geolocator.geocode(\"1050 Enterprise way Sunnyvale CA 94089\")\n",
    "m = folium.Map(location=[loc.latitude,loc.longitude],zoom_start=18)\n",
    "m\n"
   ]
  },
  {
   "cell_type": "code",
   "execution_count": null,
   "metadata": {},
   "outputs": [],
   "source": []
  }
 ],
 "metadata": {
  "kernelspec": {
   "display_name": "Python 3",
   "language": "python",
   "name": "python3"
  },
  "language_info": {
   "codemirror_mode": {
    "name": "ipython",
    "version": 3
   },
   "file_extension": ".py",
   "mimetype": "text/x-python",
   "name": "python",
   "nbconvert_exporter": "python",
   "pygments_lexer": "ipython3",
   "version": "3.7.4"
  }
 },
 "nbformat": 4,
 "nbformat_minor": 2
}
